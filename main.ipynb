{
 "cells": [
  {
   "cell_type": "code",
   "execution_count": 1,
   "metadata": {},
   "outputs": [],
   "source": [
    "import requests\n",
    "import gzip\n",
    "import shutil\n",
    "import networkx as nx\n",
    "import matplotlib.pyplot as plt"
   ]
  },
  {
   "cell_type": "code",
   "execution_count": 2,
   "metadata": {},
   "outputs": [],
   "source": [
    "# URL da base de dados\n",
    "url = \"https://snap.stanford.edu/data/facebook_combined.txt.gz\"\n",
    "# Nome do arquivo compactado\n",
    "compressed_file = \"facebook_combined.txt.gz\"\n",
    "# Nome do arquivo descompactado\n",
    "decompressed_file = \"facebook_combined.txt\"\n",
    "\n",
    "# Baixar o arquivo\n",
    "response = requests.get(url, stream=True)\n",
    "with open(compressed_file, 'wb') as out_file:\n",
    "    shutil.copyfileobj(response.raw, out_file)\n",
    "\n",
    "# Descompactar o arquivo\n",
    "with gzip.open(compressed_file, 'rb') as f_in:\n",
    "    with open(decompressed_file, 'wb') as f_out:\n",
    "        shutil.copyfileobj(f_in, f_out)\n",
    "\n",
    "# Carregar a base de dados no NetworkX\n",
    "G = nx.read_edgelist(decompressed_file)"
   ]
  },
  {
   "cell_type": "code",
   "execution_count": 3,
   "metadata": {},
   "outputs": [],
   "source": [
    "# Define layout algorithms\n",
    "layout_algorithms = [\n",
    "    nx.circular_layout,\n",
    "    nx.random_layout,\n",
    "    nx.shell_layout,\n",
    "    nx.spring_layout,\n",
    "    nx.spectral_layout,\n",
    "]"
   ]
  },
  {
   "cell_type": "code",
   "execution_count": 4,
   "metadata": {},
   "outputs": [],
   "source": [
    "# Plot the graph with each layout algorithm\n",
    "plt.figure(figsize=(300, 300))\n",
    "for i, layout_algorithm in enumerate(layout_algorithms, start=1):\n",
    "    plt.subplot(2, 3, i)\n",
    "    pos = layout_algorithm(G)\n",
    "    nx.draw(G, pos=pos, with_labels=False, node_size=5)\n",
    "    plt.title(layout_algorithm.__name__)\n",
    "\n",
    "plt.suptitle(\"Facebook Connections with Different Layouts\")\n",
    "plt.tight_layout()\n",
    "plt.show()"
   ]
  }
 ],
 "metadata": {
  "kernelspec": {
   "display_name": "Python 3",
   "language": "python",
   "name": "python3"
  },
  "language_info": {
   "codemirror_mode": {
    "name": "ipython",
    "version": 3
   },
   "file_extension": ".py",
   "mimetype": "text/x-python",
   "name": "python",
   "nbconvert_exporter": "python",
   "pygments_lexer": "ipython3",
   "version": "3.12.2"
  }
 },
 "nbformat": 4,
 "nbformat_minor": 2
}
